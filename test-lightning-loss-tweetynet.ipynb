{
 "cells": [
  {
   "cell_type": "code",
   "execution_count": 1,
   "id": "ed19c5a3-230d-4f6c-97a4-82eb172d0100",
   "metadata": {},
   "outputs": [
    {
     "name": "stderr",
     "output_type": "stream",
     "text": [
      "/home/pimienta/Documents/repos/coding/vocalpy/vak-vocalpy/.venv/lib/python3.10/site-packages/tqdm/auto.py:21: TqdmWarning: IProgress not found. Please update jupyter and ipywidgets. See https://ipywidgets.readthedocs.io/en/stable/user_install.html\n",
      "  from .autonotebook import tqdm as notebook_tqdm\n"
     ]
    }
   ],
   "source": [
    "from __future__ import annotations\n",
    "\n",
    "import json\n",
    "import logging\n",
    "import os\n",
    "import pathlib\n",
    "from typing import Callable, ClassVar, Mapping\n",
    "\n",
    "import pandas as pd\n",
    "import torch\n",
    "from torch import optim, nn, utils, Tensor\n",
    "from torchvision.datasets import MNIST\n",
    "from torchvision.transforms import ToTensor\n",
    "import pytorch_lightning as lightning\n",
    "from torchmetrics import Accuracy\n",
    "from torch.nn import functional as F\n",
    "\n",
    "import torch.utils.data as data\n",
    "from torchvision import datasets\n",
    "import torchvision.transforms as transforms\n",
    "\n",
    "import vak"
   ]
  },
  {
   "cell_type": "code",
   "execution_count": 2,
   "id": "6b53cfaa-4ca2-4ec9-8c41-9d6379b50c84",
   "metadata": {},
   "outputs": [],
   "source": [
    "class FrameClassificationModel(lightning.LightningModule):\n",
    "    def __init__(\n",
    "        self,\n",
    "        labelmap: Mapping,\n",
    "        network: torch.nn.Module | dict | None = None,\n",
    "        loss: torch.nn.Module | Callable | None = None,\n",
    "        metrics: dict | None = None,\n",
    "        post_tfm: Callable | None = None,\n",
    "    ):\n",
    "        super().__init__()\n",
    "\n",
    "        self.network = network\n",
    "        self.loss = loss\n",
    "        self.optimizer = self.configure_optimizers()\n",
    "        self.metrics = metrics\n",
    "\n",
    "        self.labelmap = labelmap\n",
    "        # replace any multiple character labels in mapping\n",
    "        # with single-character labels\n",
    "        # so that we do not affect edit distance computation\n",
    "        # see https://github.com/NickleDave/vak/issues/373\n",
    "        labelmap_keys = [lbl for lbl in labelmap.keys() if lbl != \"unlabeled\"]\n",
    "        if any(\n",
    "            [len(label) > 1 for label in labelmap_keys]\n",
    "        ):  # only re-map if necessary\n",
    "            # (to minimize chance of knock-on bugs)\n",
    "            self.eval_labelmap = vak.common.labels.multi_char_labels_to_single_char(\n",
    "                labelmap\n",
    "            )\n",
    "        else:\n",
    "            self.eval_labelmap = labelmap\n",
    "\n",
    "        self.to_labels_eval = vak.transforms.frame_labels.ToLabels(\n",
    "            self.eval_labelmap\n",
    "        )\n",
    "        self.post_tfm = post_tfm\n",
    "\n",
    "    def configure_optimizers(self):\n",
    "        \"\"\"Returns the model's optimizer.\n",
    "\n",
    "        Method required by ``lightning.LightningModule``.\n",
    "        This method returns the ``optimizer`` instance passed into ``__init__``.\n",
    "        If None was passed in, an instance that was created\n",
    "        with default arguments will be returned.\n",
    "        \"\"\"\n",
    "        return self.optimizer\n",
    "\n",
    "    def training_step(self, batch: tuple, batch_idx: int):\n",
    "        x, y = batch[0], batch[1]\n",
    "        out = self.network(x)\n",
    "        loss = self.loss(out, y)\n",
    "        self.log(\"train_loss\", loss, on_step=True, on_epoch=True)\n",
    "        return loss\n",
    "\n",
    "    def validation_step(self, batch: tuple, batch_idx: int):\n",
    "        x, y = batch[\"frames\"], batch[\"frame_labels\"]\n",
    "        # remove \"batch\" dimension added by collate_fn to x\n",
    "        # we keep for y because loss still expects the first dimension to be batch\n",
    "        # TODO: fix this weirdness. Diff't collate_fn?\n",
    "        if x.ndim in (5, 4):\n",
    "            if x.shape[0] == 1:\n",
    "                x = torch.squeeze(x, dim=0)\n",
    "        else:\n",
    "            raise ValueError(f\"invalid shape for x: {x.shape}\")\n",
    "\n",
    "        out = self.network(x)\n",
    "        # permute and flatten out\n",
    "        # so that it has shape (1, number classes, number of time bins)\n",
    "        # ** NOTICE ** just calling out.reshape(1, out.shape(1), -1) does not work, it will change the data\n",
    "        out = out.permute(1, 0, 2)\n",
    "        out = torch.flatten(out, start_dim=1)\n",
    "        out = torch.unsqueeze(out, dim=0)\n",
    "        # reduce to predictions, assuming class dimension is 1\n",
    "        y_pred = torch.argmax(\n",
    "            out, dim=1\n",
    "        )  # y_pred has dims (batch size 1, predicted label per time bin)\n",
    "\n",
    "        if \"padding_mask\" in batch:\n",
    "            padding_mask = batch[\n",
    "                \"padding_mask\"\n",
    "            ]  # boolean: 1 where valid, 0 where padding\n",
    "            # remove \"batch\" dimension added by collate_fn\n",
    "            # because this extra dimension just makes it confusing to use the mask as indices\n",
    "            if padding_mask.ndim == 2:\n",
    "                if padding_mask.shape[0] == 1:\n",
    "                    padding_mask = torch.squeeze(padding_mask, dim=0)\n",
    "            else:\n",
    "                raise ValueError(\n",
    "                    f\"invalid shape for padding mask: {padding_mask.shape}\"\n",
    "                )\n",
    "\n",
    "            out = out[:, :, padding_mask]\n",
    "            y_pred = y_pred[:, padding_mask]\n",
    "\n",
    "        y_labels = self.to_labels_eval(y.cpu().numpy())\n",
    "        y_pred_labels = self.to_labels_eval(y_pred.cpu().numpy())\n",
    "\n",
    "        if self.post_tfm:\n",
    "            y_pred_tfm = self.post_tfm(\n",
    "                y_pred.cpu().numpy(),\n",
    "            )\n",
    "            y_pred_tfm_labels = self.to_labels_eval(y_pred_tfm)\n",
    "            # convert back to tensor so we can compute accuracy\n",
    "            y_pred_tfm = torch.from_numpy(y_pred_tfm).to(self.device)\n",
    "\n",
    "        # TODO: figure out smarter way to do this\n",
    "        for metric_name, metric_callable in self.metrics.items():\n",
    "            if metric_name == \"loss\":\n",
    "                self.log(\n",
    "                    f\"val_{metric_name}\",\n",
    "                    metric_callable(out, y),\n",
    "                    batch_size=1,\n",
    "                    on_step=True,\n",
    "                    sync_dist=True,\n",
    "                )\n",
    "            elif metric_name == \"acc\":\n",
    "                self.log(\n",
    "                    f\"val_{metric_name}\",\n",
    "                    metric_callable(y_pred, y),\n",
    "                    batch_size=1,\n",
    "                    on_step=True,\n",
    "                    sync_dist=True,\n",
    "                )\n",
    "                if self.post_tfm:\n",
    "                    self.log(\n",
    "                        f\"val_{metric_name}_tfm\",\n",
    "                        metric_callable(y_pred_tfm, y),\n",
    "                        batch_size=1,\n",
    "                        on_step=True,\n",
    "                        sync_dist=True,\n",
    "                    )\n",
    "            elif (\n",
    "                metric_name == \"levenshtein\"\n",
    "                or metric_name == \"character_error_rate\"\n",
    "            ):\n",
    "                self.log(\n",
    "                    f\"val_{metric_name}\",\n",
    "                    metric_callable(y_pred_labels, y_labels),\n",
    "                    batch_size=1,\n",
    "                    on_step=True,\n",
    "                    sync_dist=True,\n",
    "                )\n",
    "                if self.post_tfm:\n",
    "                    self.log(\n",
    "                        f\"val_{metric_name}_tfm\",\n",
    "                        metric_callable(y_pred_tfm_labels, y_labels),\n",
    "                        batch_size=1,\n",
    "                        on_step=True,\n",
    "                        sync_dist=True,\n",
    "                    )\n",
    "\n",
    "    def configure_optimizers(self):\n",
    "        return torch.optim.Adam(lr=0.003, params=self.parameters())"
   ]
  },
  {
   "cell_type": "code",
   "execution_count": 3,
   "id": "b5c64efc-d317-4bea-a73a-9e8d2a6c0fc1",
   "metadata": {},
   "outputs": [],
   "source": [
    "dataset_path = './tests/data_for_tests/generated/prep/train/audio_cbin_annot_notmat/TweetyNet/032312-vak-frame-classification-dataset-generated-231010_165438/'"
   ]
  },
  {
   "cell_type": "code",
   "execution_count": 4,
   "id": "4fa2b9ec-69c8-4fb4-827c-bc326fa530aa",
   "metadata": {},
   "outputs": [],
   "source": [
    "dataset_path = pathlib.Path(dataset_path)\n",
    "metadata = vak.datasets.frame_classification.Metadata.from_dataset_path(\n",
    "    dataset_path\n",
    ")\n",
    "dataset_csv_path = dataset_path / metadata.dataset_csv_filename\n",
    "dataset_df = pd.read_csv(dataset_csv_path)"
   ]
  },
  {
   "cell_type": "code",
   "execution_count": 5,
   "id": "e0966cd3-46d5-4915-81b6-81c8f3413b0c",
   "metadata": {},
   "outputs": [],
   "source": [
    "labelmap_path = dataset_path / \"labelmap.json\"\n",
    "with labelmap_path.open(\"r\") as f:\n",
    "    labelmap = json.load(f)"
   ]
  },
  {
   "cell_type": "code",
   "execution_count": 6,
   "id": "e7e0dceb-d2ed-4517-af31-3b82424fddad",
   "metadata": {},
   "outputs": [],
   "source": [
    "spect_standardizer = vak.transforms.StandardizeSpect.fit_dataset_path(\n",
    "    dataset_path,\n",
    "    split=\"train\",\n",
    ")"
   ]
  },
  {
   "cell_type": "code",
   "execution_count": 7,
   "id": "d90e1db1-918c-4972-814c-a87408f1117b",
   "metadata": {},
   "outputs": [],
   "source": [
    "train_transform_params = {}\n",
    "train_transform_params.update({\"spect_standardizer\": spect_standardizer})\n",
    "transform, target_transform = vak.transforms.defaults.get_default_transform(\n",
    "    'TweetyNet', \"train\", transform_kwargs=train_transform_params\n",
    ")"
   ]
  },
  {
   "cell_type": "code",
   "execution_count": 8,
   "id": "0b755e0f-36fc-462f-bf8e-05e1e1640a70",
   "metadata": {},
   "outputs": [],
   "source": [
    "train_dataset = vak.datasets.frame_classification.WindowDataset.from_dataset_path(\n",
    "    dataset_path=dataset_path,\n",
    "    split=\"train\",\n",
    "    transform=transform,\n",
    "    target_transform=target_transform,\n",
    "    window_size=44,\n",
    ")"
   ]
  },
  {
   "cell_type": "code",
   "execution_count": 9,
   "id": "06606a7a-6c63-405a-bd66-da87c0c25624",
   "metadata": {},
   "outputs": [],
   "source": [
    "train_loader = torch.utils.data.DataLoader(\n",
    "    dataset=train_dataset,\n",
    "    shuffle=True,\n",
    "    batch_size=16,\n",
    "    num_workers=16,\n",
    ")\n"
   ]
  },
  {
   "cell_type": "code",
   "execution_count": 10,
   "id": "a218c69a-dd4e-45cd-a209-8358c62b8351",
   "metadata": {},
   "outputs": [],
   "source": [
    "val_transform_params = {'window_size': 44}\n",
    "val_transform_params.update({\"spect_standardizer\": spect_standardizer})\n",
    "item_transform = vak.transforms.defaults.get_default_transform(\n",
    "    'TweetyNet', \"eval\", val_transform_params\n",
    ")"
   ]
  },
  {
   "cell_type": "code",
   "execution_count": 11,
   "id": "3e74c153-fcbe-41e9-aeb3-71daee5d5a39",
   "metadata": {},
   "outputs": [],
   "source": [
    "val_dataset = vak.datasets.frame_classification.FramesDataset.from_dataset_path(\n",
    "    dataset_path=dataset_path,\n",
    "    split=\"val\",\n",
    "    item_transform=item_transform,\n",
    ")"
   ]
  },
  {
   "cell_type": "code",
   "execution_count": 12,
   "id": "aab4a3e1-b029-4147-bd14-6b2835675495",
   "metadata": {},
   "outputs": [],
   "source": [
    "val_loader = torch.utils.data.DataLoader(\n",
    "    dataset=val_dataset,\n",
    "    shuffle=False,\n",
    "    # batch size 1 because each spectrogram reshaped into a batch of windows\n",
    "    batch_size=1,\n",
    "    num_workers=16,\n",
    ")"
   ]
  },
  {
   "cell_type": "code",
   "execution_count": 13,
   "id": "5287052c-9800-42a3-b9d5-122701adaf0d",
   "metadata": {},
   "outputs": [],
   "source": [
    "network = vak.nets.TweetyNet(\n",
    "    num_classes=len(labelmap),\n",
    "    num_freqbins=train_dataset.shape[1],\n",
    "    num_input_channels=train_dataset.shape[0]\n",
    ")"
   ]
  },
  {
   "cell_type": "code",
   "execution_count": 14,
   "id": "ceef15d3-ec27-41d2-89c6-3a0224f55cbe",
   "metadata": {},
   "outputs": [],
   "source": [
    "loss = torch.nn.CrossEntropyLoss()"
   ]
  },
  {
   "cell_type": "code",
   "execution_count": 15,
   "id": "e33febac-0142-4d58-816c-717943f9ea03",
   "metadata": {},
   "outputs": [],
   "source": [
    "metrics = {\n",
    "    \"acc\": vak.metrics.Accuracy(),\n",
    "    \"levenshtein\": vak.metrics.Levenshtein(),\n",
    "    \"character_error_rate\": vak.metrics.CharacterErrorRate(),\n",
    "    \"loss\": torch.nn.CrossEntropyLoss(),\n",
    "}"
   ]
  },
  {
   "cell_type": "code",
   "execution_count": 16,
   "id": "7bffa0fb-c7ea-4840-833d-425b3940311f",
   "metadata": {},
   "outputs": [],
   "source": [
    "model = FrameClassificationModel(\n",
    "    network=network,\n",
    "    loss=loss,\n",
    "    metrics=metrics,\n",
    "    labelmap=labelmap\n",
    ")"
   ]
  },
  {
   "cell_type": "code",
   "execution_count": 17,
   "id": "d4e01933-61ce-44ba-a94d-e348d9781033",
   "metadata": {},
   "outputs": [],
   "source": [
    "ckpt_callback = lightning.callbacks.ModelCheckpoint(\n",
    "    dirpath='.',\n",
    "    filename=\"checkpoint\",\n",
    "    every_n_train_steps=10,\n",
    "    save_last=True,\n",
    "    verbose=True,\n",
    ")\n",
    "ckpt_callback.CHECKPOINT_NAME_LAST = \"checkpoint\"\n",
    "ckpt_callback.FILE_EXTENSION = \".pt\"\n",
    "\n",
    "val_ckpt_callback = lightning.callbacks.ModelCheckpoint(\n",
    "    monitor=\"val_acc\",\n",
    "    dirpath='.',\n",
    "    save_top_k=1,\n",
    "    mode=\"max\",\n",
    "    filename=\"best\",\n",
    "    auto_insert_metric_name=False,\n",
    "    verbose=True,\n",
    ")\n",
    "val_ckpt_callback.FILE_EXTENSION = \".pt\"\n",
    "\n",
    "early_stopping = lightning.callbacks.EarlyStopping(\n",
    "    mode=\"max\",\n",
    "    monitor=\"val_acc\",\n",
    "    patience=4,\n",
    "    verbose=True,\n",
    ")\n",
    "\n",
    "callbacks = [ckpt_callback, val_ckpt_callback, early_stopping]"
   ]
  },
  {
   "cell_type": "code",
   "execution_count": 18,
   "id": "faa3d737-0836-4774-b49c-2af095b2bdc7",
   "metadata": {},
   "outputs": [],
   "source": [
    "logger = lightning.loggers.TensorBoardLogger(save_dir='.')"
   ]
  },
  {
   "cell_type": "code",
   "execution_count": 19,
   "id": "05cf858a-152f-44d5-b2bf-e2fd12ce536e",
   "metadata": {},
   "outputs": [
    {
     "name": "stderr",
     "output_type": "stream",
     "text": [
      "GPU available: True (cuda), used: True\n",
      "TPU available: False, using: 0 TPU cores\n",
      "IPU available: False, using: 0 IPUs\n",
      "HPU available: False, using: 0 HPUs\n"
     ]
    }
   ],
   "source": [
    "trainer = lightning.Trainer(\n",
    "    callbacks=callbacks,\n",
    "    val_check_interval=100,\n",
    "    max_steps=5000,\n",
    "    accelerator='cuda',\n",
    "    logger=logger,\n",
    ")"
   ]
  },
  {
   "cell_type": "code",
   "execution_count": 20,
   "id": "24d0b53f-a2f8-4ea1-923b-00f95a693dcd",
   "metadata": {},
   "outputs": [
    {
     "name": "stderr",
     "output_type": "stream",
     "text": [
      "Missing logger folder: ./lightning_logs\n",
      "/home/pimienta/Documents/repos/coding/vocalpy/vak-vocalpy/.venv/lib/python3.10/site-packages/pytorch_lightning/callbacks/model_checkpoint.py:617: UserWarning: Checkpoint directory /home/pimienta/Documents/repos/coding/vocalpy/vak-vocalpy exists and is not empty.\n",
      "  rank_zero_warn(f\"Checkpoint directory {dirpath} exists and is not empty.\")\n",
      "LOCAL_RANK: 0 - CUDA_VISIBLE_DEVICES: [0]\n",
      "\n",
      "  | Name    | Type             | Params\n",
      "---------------------------------------------\n",
      "0 | network | TweetyNet        | 319 K \n",
      "1 | loss    | CrossEntropyLoss | 0     \n",
      "---------------------------------------------\n",
      "319 K     Trainable params\n",
      "0         Non-trainable params\n",
      "319 K     Total params\n",
      "1.277     Total estimated model params size (MB)\n"
     ]
    },
    {
     "name": "stdout",
     "output_type": "stream",
     "text": [
      "                                                                                                                                                      \r"
     ]
    },
    {
     "name": "stderr",
     "output_type": "stream",
     "text": [
      "/home/pimienta/Documents/repos/coding/vocalpy/vak-vocalpy/.venv/lib/python3.10/site-packages/pytorch_lightning/trainer/connectors/logger_connector/result.py:212: UserWarning: You called `self.log('val_levenshtein', ...)` in your `validation_step` but the value needs to be floating point. Converting it to torch.float32.\n",
      "  warning_cache.warn(\n",
      "/home/pimienta/Documents/repos/coding/vocalpy/vak-vocalpy/src/vak/metrics/distance/functional.py:100: UserWarning: To copy construct from a tensor, it is recommended to use sourceTensor.clone().detach() or sourceTensor.clone().detach().requires_grad_(True), rather than torch.tensor(sourceTensor).\n",
      "  return torch.tensor(rate, dtype=torch.float32)\n"
     ]
    },
    {
     "name": "stdout",
     "output_type": "stream",
     "text": [
      "Epoch 0:   6%|█████▉                                                                                      | 100/1560 [00:02<00:35, 41.15it/s, v_num=0]\n",
      "Validation: 0it [00:00, ?it/s]\u001b[A\n",
      "Validation:   0%|                                                                                                               | 0/2 [00:00<?, ?it/s]\u001b[A\n",
      "Validation DataLoader 0:   0%|                                                                                                  | 0/2 [00:00<?, ?it/s]\u001b[A\n",
      "Validation DataLoader 0:  50%|█████████████████████████████████████████████                                             | 1/2 [00:00<00:00, 30.39it/s]\u001b[A\n",
      "Validation DataLoader 0: 100%|██████████████████████████████████████████████████████████████████████████████████████████| 2/2 [00:00<00:00, 34.49it/s]\u001b[A"
     ]
    },
    {
     "name": "stderr",
     "output_type": "stream",
     "text": [
      "Metric val_acc improved. New best score: 0.886\n"
     ]
    },
    {
     "name": "stdout",
     "output_type": "stream",
     "text": [
      "Epoch 0:   6%|█████▉                                                                                      | 100/1560 [00:03<00:44, 32.88it/s, v_num=0]\n",
      "                                                                                                                                                      \u001b[A"
     ]
    },
    {
     "name": "stderr",
     "output_type": "stream",
     "text": [
      "Epoch 0, global step 100: 'val_acc' reached 0.88571 (best 0.88571), saving model to '/home/pimienta/Documents/repos/coding/vocalpy/vak-vocalpy/best.pt' as top 1\n"
     ]
    },
    {
     "name": "stdout",
     "output_type": "stream",
     "text": [
      "Epoch 0:  13%|███████████▊                                                                                | 200/1560 [00:04<00:32, 42.04it/s, v_num=0]\n",
      "Validation: 0it [00:00, ?it/s]\u001b[A\n",
      "Validation:   0%|                                                                                                               | 0/2 [00:00<?, ?it/s]\u001b[A\n",
      "Validation DataLoader 0:   0%|                                                                                                  | 0/2 [00:00<?, ?it/s]\u001b[A\n",
      "Validation DataLoader 0:  50%|█████████████████████████████████████████████                                             | 1/2 [00:00<00:00, 38.22it/s]\u001b[A\n",
      "Validation DataLoader 0: 100%|██████████████████████████████████████████████████████████████████████████████████████████| 2/2 [00:00<00:00, 43.16it/s]\u001b[A"
     ]
    },
    {
     "name": "stderr",
     "output_type": "stream",
     "text": [
      "Metric val_acc improved by 0.063 >= min_delta = 0.0. New best score: 0.949\n"
     ]
    },
    {
     "name": "stdout",
     "output_type": "stream",
     "text": [
      "Epoch 0:  13%|███████████▊                                                                                | 200/1560 [00:05<00:36, 37.46it/s, v_num=0]\n",
      "                                                                                                                                                      \u001b[A"
     ]
    },
    {
     "name": "stderr",
     "output_type": "stream",
     "text": [
      "Epoch 0, global step 200: 'val_acc' reached 0.94883 (best 0.94883), saving model to '/home/pimienta/Documents/repos/coding/vocalpy/vak-vocalpy/best.pt' as top 1\n"
     ]
    },
    {
     "name": "stdout",
     "output_type": "stream",
     "text": [
      "Epoch 0:  19%|█████████████████▋                                                                          | 300/1560 [00:06<00:29, 43.03it/s, v_num=0]\n",
      "Validation: 0it [00:00, ?it/s]\u001b[A\n",
      "Validation:   0%|                                                                                                               | 0/2 [00:00<?, ?it/s]\u001b[A\n",
      "Validation DataLoader 0:   0%|                                                                                                  | 0/2 [00:00<?, ?it/s]\u001b[A\n",
      "Validation DataLoader 0:  50%|█████████████████████████████████████████████                                             | 1/2 [00:00<00:00, 41.72it/s]\u001b[A\n",
      "Validation DataLoader 0: 100%|██████████████████████████████████████████████████████████████████████████████████████████| 2/2 [00:00<00:00, 46.22it/s]\u001b[A"
     ]
    },
    {
     "name": "stderr",
     "output_type": "stream",
     "text": [
      "Metric val_acc improved by 0.005 >= min_delta = 0.0. New best score: 0.954\n"
     ]
    },
    {
     "name": "stdout",
     "output_type": "stream",
     "text": [
      "Epoch 0:  19%|█████████████████▋                                                                          | 300/1560 [00:07<00:31, 39.75it/s, v_num=0]\n",
      "                                                                                                                                                      \u001b[A"
     ]
    },
    {
     "name": "stderr",
     "output_type": "stream",
     "text": [
      "Epoch 0, global step 300: 'val_acc' reached 0.95399 (best 0.95399), saving model to '/home/pimienta/Documents/repos/coding/vocalpy/vak-vocalpy/best.pt' as top 1\n"
     ]
    },
    {
     "name": "stdout",
     "output_type": "stream",
     "text": [
      "Epoch 0:  26%|███████████████████████▌                                                                    | 400/1560 [00:09<00:26, 43.17it/s, v_num=0]\n",
      "Validation: 0it [00:00, ?it/s]\u001b[A\n",
      "Validation:   0%|                                                                                                               | 0/2 [00:00<?, ?it/s]\u001b[A\n",
      "Validation DataLoader 0:   0%|                                                                                                  | 0/2 [00:00<?, ?it/s]\u001b[A\n",
      "Validation DataLoader 0:  50%|█████████████████████████████████████████████                                             | 1/2 [00:00<00:00, 44.00it/s]\u001b[A\n",
      "Validation DataLoader 0: 100%|██████████████████████████████████████████████████████████████████████████████████████████| 2/2 [00:00<00:00, 48.99it/s]\u001b[A"
     ]
    },
    {
     "name": "stderr",
     "output_type": "stream",
     "text": [
      "Metric val_acc improved by 0.012 >= min_delta = 0.0. New best score: 0.966\n"
     ]
    },
    {
     "name": "stdout",
     "output_type": "stream",
     "text": [
      "Epoch 0:  26%|███████████████████████▌                                                                    | 400/1560 [00:09<00:28, 40.60it/s, v_num=0]\n",
      "                                                                                                                                                      \u001b[A"
     ]
    },
    {
     "name": "stderr",
     "output_type": "stream",
     "text": [
      "Epoch 0, global step 400: 'val_acc' reached 0.96578 (best 0.96578), saving model to '/home/pimienta/Documents/repos/coding/vocalpy/vak-vocalpy/best.pt' as top 1\n"
     ]
    },
    {
     "name": "stdout",
     "output_type": "stream",
     "text": [
      "Epoch 0:  32%|█████████████████████████████▍                                                              | 500/1560 [00:11<00:24, 43.16it/s, v_num=0]\n",
      "Validation: 0it [00:00, ?it/s]\u001b[A\n",
      "Validation:   0%|                                                                                                               | 0/2 [00:00<?, ?it/s]\u001b[A\n",
      "Validation DataLoader 0:   0%|                                                                                                  | 0/2 [00:00<?, ?it/s]\u001b[A\n",
      "Validation DataLoader 0:  50%|█████████████████████████████████████████████                                             | 1/2 [00:00<00:00, 44.04it/s]\u001b[A\n",
      "Validation DataLoader 0: 100%|██████████████████████████████████████████████████████████████████████████████████████████| 2/2 [00:00<00:00, 49.80it/s]\u001b[A"
     ]
    },
    {
     "name": "stderr",
     "output_type": "stream",
     "text": [
      "Metric val_acc improved by 0.007 >= min_delta = 0.0. New best score: 0.973\n"
     ]
    },
    {
     "name": "stdout",
     "output_type": "stream",
     "text": [
      "Epoch 0:  32%|█████████████████████████████▍                                                              | 500/1560 [00:12<00:25, 41.07it/s, v_num=0]\n",
      "                                                                                                                                                      \u001b[A"
     ]
    },
    {
     "name": "stderr",
     "output_type": "stream",
     "text": [
      "Epoch 0, global step 500: 'val_acc' reached 0.97262 (best 0.97262), saving model to '/home/pimienta/Documents/repos/coding/vocalpy/vak-vocalpy/best.pt' as top 1\n"
     ]
    },
    {
     "name": "stdout",
     "output_type": "stream",
     "text": [
      "Epoch 0:  38%|███████████████████████████████████▍                                                        | 600/1560 [00:13<00:22, 43.42it/s, v_num=0]\n",
      "Validation: 0it [00:00, ?it/s]\u001b[A\n",
      "Validation:   0%|                                                                                                               | 0/2 [00:00<?, ?it/s]\u001b[A\n",
      "Validation DataLoader 0:   0%|                                                                                                  | 0/2 [00:00<?, ?it/s]\u001b[A\n",
      "Validation DataLoader 0:  50%|█████████████████████████████████████████████                                             | 1/2 [00:00<00:00, 46.28it/s]\u001b[A\n",
      "Epoch 0:  38%|███████████████████████████████████▍                                                        | 600/1560 [00:14<00:23, 41.63it/s, v_num=0]\u001b[A\n",
      "                                                                                                                                                      \u001b[A"
     ]
    },
    {
     "name": "stderr",
     "output_type": "stream",
     "text": [
      "Epoch 0, global step 600: 'val_acc' was not in top 1\n"
     ]
    },
    {
     "name": "stdout",
     "output_type": "stream",
     "text": [
      "Epoch 0:  45%|█████████████████████████████████████████▎                                                  | 700/1560 [00:16<00:19, 43.43it/s, v_num=0]\n",
      "Validation: 0it [00:00, ?it/s]\u001b[A\n",
      "Validation:   0%|                                                                                                               | 0/2 [00:00<?, ?it/s]\u001b[A\n",
      "Validation DataLoader 0:   0%|                                                                                                  | 0/2 [00:00<?, ?it/s]\u001b[A\n",
      "Validation DataLoader 0:  50%|█████████████████████████████████████████████                                             | 1/2 [00:00<00:00, 46.69it/s]\u001b[A\n",
      "Validation DataLoader 0: 100%|██████████████████████████████████████████████████████████████████████████████████████████| 2/2 [00:00<00:00, 52.04it/s]\u001b[A"
     ]
    },
    {
     "name": "stderr",
     "output_type": "stream",
     "text": [
      "Metric val_acc improved by 0.005 >= min_delta = 0.0. New best score: 0.978\n"
     ]
    },
    {
     "name": "stdout",
     "output_type": "stream",
     "text": [
      "Epoch 0:  45%|█████████████████████████████████████████▎                                                  | 700/1560 [00:16<00:20, 41.93it/s, v_num=0]\n",
      "                                                                                                                                                      \u001b[A"
     ]
    },
    {
     "name": "stderr",
     "output_type": "stream",
     "text": [
      "Epoch 0, global step 700: 'val_acc' reached 0.97803 (best 0.97803), saving model to '/home/pimienta/Documents/repos/coding/vocalpy/vak-vocalpy/best.pt' as top 1\n"
     ]
    },
    {
     "name": "stdout",
     "output_type": "stream",
     "text": [
      "Epoch 0:  51%|███████████████████████████████████████████████▏                                            | 800/1560 [00:18<00:17, 43.47it/s, v_num=0]\n",
      "Validation: 0it [00:00, ?it/s]\u001b[A\n",
      "Validation:   0%|                                                                                                               | 0/2 [00:00<?, ?it/s]\u001b[A\n",
      "Validation DataLoader 0:   0%|                                                                                                  | 0/2 [00:00<?, ?it/s]\u001b[A\n",
      "Validation DataLoader 0:  50%|█████████████████████████████████████████████                                             | 1/2 [00:00<00:00, 45.36it/s]\u001b[A\n",
      "Epoch 0:  51%|███████████████████████████████████████████████▏                                            | 800/1560 [00:18<00:18, 42.12it/s, v_num=0]\u001b[A\n",
      "                                                                                                                                                      \u001b[A"
     ]
    },
    {
     "name": "stderr",
     "output_type": "stream",
     "text": [
      "Epoch 0, global step 800: 'val_acc' was not in top 1\n"
     ]
    },
    {
     "name": "stdout",
     "output_type": "stream",
     "text": [
      "Epoch 0:  58%|█████████████████████████████████████████████████████                                       | 900/1560 [00:20<00:15, 43.62it/s, v_num=0]\n",
      "Validation: 0it [00:00, ?it/s]\u001b[A\n",
      "Validation:   0%|                                                                                                               | 0/2 [00:00<?, ?it/s]\u001b[A\n",
      "Validation DataLoader 0:   0%|                                                                                                  | 0/2 [00:00<?, ?it/s]\u001b[A\n",
      "Validation DataLoader 0:  50%|█████████████████████████████████████████████                                             | 1/2 [00:00<00:00, 46.16it/s]\u001b[A\n",
      "Validation DataLoader 0: 100%|██████████████████████████████████████████████████████████████████████████████████████████| 2/2 [00:00<00:00, 48.92it/s]\u001b[A"
     ]
    },
    {
     "name": "stderr",
     "output_type": "stream",
     "text": [
      "Metric val_acc improved by 0.002 >= min_delta = 0.0. New best score: 0.980\n"
     ]
    },
    {
     "name": "stdout",
     "output_type": "stream",
     "text": [
      "Epoch 0:  58%|█████████████████████████████████████████████████████                                       | 900/1560 [00:21<00:15, 42.38it/s, v_num=0]\n",
      "                                                                                                                                                      \u001b[A"
     ]
    },
    {
     "name": "stderr",
     "output_type": "stream",
     "text": [
      "Epoch 0, global step 900: 'val_acc' reached 0.97985 (best 0.97985), saving model to '/home/pimienta/Documents/repos/coding/vocalpy/vak-vocalpy/best.pt' as top 1\n"
     ]
    },
    {
     "name": "stdout",
     "output_type": "stream",
     "text": [
      "Epoch 0:  64%|██████████████████████████████████████████████████████████▎                                | 1000/1560 [00:22<00:12, 43.66it/s, v_num=0]\n",
      "Validation: 0it [00:00, ?it/s]\u001b[A\n",
      "Validation:   0%|                                                                                                               | 0/2 [00:00<?, ?it/s]\u001b[A\n",
      "Validation DataLoader 0:   0%|                                                                                                  | 0/2 [00:00<?, ?it/s]\u001b[A\n",
      "Validation DataLoader 0:  50%|█████████████████████████████████████████████                                             | 1/2 [00:00<00:00, 46.13it/s]\u001b[A\n",
      "Validation DataLoader 0: 100%|██████████████████████████████████████████████████████████████████████████████████████████| 2/2 [00:00<00:00,  5.36it/s]\u001b[A"
     ]
    },
    {
     "name": "stderr",
     "output_type": "stream",
     "text": [
      "Metric val_acc improved by 0.004 >= min_delta = 0.0. New best score: 0.983\n"
     ]
    },
    {
     "name": "stdout",
     "output_type": "stream",
     "text": [
      "Epoch 0:  64%|██████████████████████████████████████████████████████████▎                                | 1000/1560 [00:23<00:13, 41.93it/s, v_num=0]\n",
      "                                                                                                                                                      \u001b[A"
     ]
    },
    {
     "name": "stderr",
     "output_type": "stream",
     "text": [
      "Epoch 0, global step 1000: 'val_acc' reached 0.98347 (best 0.98347), saving model to '/home/pimienta/Documents/repos/coding/vocalpy/vak-vocalpy/best.pt' as top 1\n"
     ]
    },
    {
     "name": "stdout",
     "output_type": "stream",
     "text": [
      "Epoch 0:  71%|████████████████████████████████████████████████████████████████▏                          | 1100/1560 [00:25<00:10, 43.11it/s, v_num=0]\n",
      "Validation: 0it [00:00, ?it/s]\u001b[A\n",
      "Validation:   0%|                                                                                                               | 0/2 [00:00<?, ?it/s]\u001b[A\n",
      "Validation DataLoader 0:   0%|                                                                                                  | 0/2 [00:00<?, ?it/s]\u001b[A\n",
      "Validation DataLoader 0:  50%|█████████████████████████████████████████████                                             | 1/2 [00:00<00:00, 48.65it/s]\u001b[A\n",
      "Epoch 0:  71%|████████████████████████████████████████████████████████████████▏                          | 1100/1560 [00:26<00:10, 42.17it/s, v_num=0]\u001b[A\n",
      "                                                                                                                                                      \u001b[A"
     ]
    },
    {
     "name": "stderr",
     "output_type": "stream",
     "text": [
      "Epoch 0, global step 1100: 'val_acc' was not in top 1\n"
     ]
    },
    {
     "name": "stdout",
     "output_type": "stream",
     "text": [
      "Epoch 0:  77%|██████████████████████████████████████████████████████████████████████                     | 1200/1560 [00:27<00:08, 43.30it/s, v_num=0]\n",
      "Validation: 0it [00:00, ?it/s]\u001b[A\n",
      "Validation:   0%|                                                                                                               | 0/2 [00:00<?, ?it/s]\u001b[A\n",
      "Validation DataLoader 0:   0%|                                                                                                  | 0/2 [00:00<?, ?it/s]\u001b[A\n",
      "Validation DataLoader 0:  50%|█████████████████████████████████████████████                                             | 1/2 [00:00<00:00, 45.22it/s]\u001b[A\n",
      "Epoch 0:  77%|██████████████████████████████████████████████████████████████████████                     | 1200/1560 [00:28<00:08, 42.43it/s, v_num=0]\u001b[A\n",
      "                                                                                                                                                      \u001b[A"
     ]
    },
    {
     "name": "stderr",
     "output_type": "stream",
     "text": [
      "Epoch 0, global step 1200: 'val_acc' was not in top 1\n"
     ]
    },
    {
     "name": "stdout",
     "output_type": "stream",
     "text": [
      "Epoch 0:  83%|███████████████████████████████████████████████████████████████████████████▊               | 1300/1560 [00:29<00:05, 43.39it/s, v_num=0]\n",
      "Validation: 0it [00:00, ?it/s]\u001b[A\n",
      "Validation:   0%|                                                                                                               | 0/2 [00:00<?, ?it/s]\u001b[A\n",
      "Validation DataLoader 0:   0%|                                                                                                  | 0/2 [00:00<?, ?it/s]\u001b[A\n",
      "Validation DataLoader 0:  50%|█████████████████████████████████████████████                                             | 1/2 [00:00<00:00, 49.26it/s]\u001b[A\n",
      "Epoch 0:  83%|███████████████████████████████████████████████████████████████████████████▊               | 1300/1560 [00:30<00:06, 42.60it/s, v_num=0]\u001b[A\n",
      "                                                                                                                                                      \u001b[A"
     ]
    },
    {
     "name": "stderr",
     "output_type": "stream",
     "text": [
      "Epoch 0, global step 1300: 'val_acc' was not in top 1\n"
     ]
    },
    {
     "name": "stdout",
     "output_type": "stream",
     "text": [
      "Epoch 0:  90%|█████████████████████████████████████████████████████████████████████████████████▋         | 1400/1560 [00:32<00:03, 43.51it/s, v_num=0]\n",
      "Validation: 0it [00:00, ?it/s]\u001b[A\n",
      "Validation:   0%|                                                                                                               | 0/2 [00:00<?, ?it/s]\u001b[A\n",
      "Validation DataLoader 0:   0%|                                                                                                  | 0/2 [00:00<?, ?it/s]\u001b[A\n",
      "Validation DataLoader 0:  50%|█████████████████████████████████████████████                                             | 1/2 [00:00<00:00, 46.85it/s]\u001b[A\n",
      "Validation DataLoader 0: 100%|██████████████████████████████████████████████████████████████████████████████████████████| 2/2 [00:00<00:00, 51.69it/s]\u001b[A"
     ]
    },
    {
     "name": "stderr",
     "output_type": "stream",
     "text": [
      "Monitored metric val_acc did not improve in the last 4 records. Best score: 0.983. Signaling Trainer to stop.\n"
     ]
    },
    {
     "name": "stdout",
     "output_type": "stream",
     "text": [
      "Epoch 0:  90%|█████████████████████████████████████████████████████████████████████████████████▋         | 1400/1560 [00:32<00:03, 42.75it/s, v_num=0]\n",
      "                                                                                                                                                      \u001b[A"
     ]
    },
    {
     "name": "stderr",
     "output_type": "stream",
     "text": [
      "Epoch 0, global step 1400: 'val_acc' was not in top 1\n"
     ]
    },
    {
     "name": "stdout",
     "output_type": "stream",
     "text": [
      "Epoch 0:  90%|█████████████████████████████████████████████████████████████████████████████████▋         | 1400/1560 [00:32<00:03, 42.74it/s, v_num=0]\n"
     ]
    }
   ],
   "source": [
    "trainer.fit(model, train_loader, val_loader)"
   ]
  }
 ],
 "metadata": {
  "kernelspec": {
   "display_name": "Python 3 (ipykernel)",
   "language": "python",
   "name": "python3"
  },
  "language_info": {
   "codemirror_mode": {
    "name": "ipython",
    "version": 3
   },
   "file_extension": ".py",
   "mimetype": "text/x-python",
   "name": "python",
   "nbconvert_exporter": "python",
   "pygments_lexer": "ipython3",
   "version": "3.10.12"
  }
 },
 "nbformat": 4,
 "nbformat_minor": 5
}
