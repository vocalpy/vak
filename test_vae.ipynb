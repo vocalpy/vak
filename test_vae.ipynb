{
 "cells": [
  {
   "cell_type": "code",
   "execution_count": 1,
   "metadata": {},
   "outputs": [
    {
     "name": "stderr",
     "output_type": "stream",
     "text": [
      "/Users/mb/Library/Mobile Documents/com~apple~CloudDocs/gits/vak/.venv/lib/python3.10/site-packages/tqdm/auto.py:21: TqdmWarning: IProgress not found. Please update jupyter and ipywidgets. See https://ipywidgets.readthedocs.io/en/stable/user_install.html\n",
      "  from .autonotebook import tqdm as notebook_tqdm\n"
     ]
    }
   ],
   "source": [
    "from src.vak.nets.ava import AVA\n",
    "import torch"
   ]
  },
  {
   "cell_type": "code",
   "execution_count": 9,
   "metadata": {},
   "outputs": [],
   "source": [
    "x_shape = (3, 128, 512)\n",
    "input = torch.zeros(x_shape)\n",
    "net = AVA(x_shape=(x_shape[1], x_shape[2]))\n",
    "output, *_ = net.forward(input)\n",
    "assert output.shape == x_shape, 'Error'"
   ]
  },
  {
   "cell_type": "code",
   "execution_count": 4,
   "metadata": {},
   "outputs": [
    {
     "data": {
      "text/plain": [
       "(tensor([[[ 0.0208, -0.3291,  0.6882,  ..., -0.0748,  0.4623,  0.3505],\n",
       "          [ 0.2156, -0.6989, -0.0076,  ...,  0.6886,  0.7483, -0.0168],\n",
       "          [ 0.2800, -0.6187, -0.4511,  ...,  0.2288,  0.0172,  0.2814],\n",
       "          ...,\n",
       "          [ 0.5600, -0.6822, -0.3365,  ...,  0.4444,  0.8699,  0.2028],\n",
       "          [ 0.5519,  0.2093, -1.0595,  ...,  0.1144,  1.1946, -0.0515],\n",
       "          [ 1.0651, -0.6337, -0.1924,  ..., -0.6605,  0.0411, -0.4116]],\n",
       " \n",
       "         [[-0.1745, -0.5648,  0.6807,  ...,  0.5579,  0.3841,  0.1591],\n",
       "          [ 1.7102, -0.4414, -0.9502,  ...,  0.4476,  0.2290, -0.1172],\n",
       "          [ 0.0379, -1.0228, -1.2022,  ...,  0.2531, -0.0263, -0.0254],\n",
       "          ...,\n",
       "          [-0.3927, -0.5723, -0.3823,  ...,  0.2884,  0.4463,  0.0611],\n",
       "          [-0.6336,  2.4851,  0.8446,  ...,  0.0616,  0.8251,  0.0884],\n",
       "          [ 1.2549, -0.9335, -0.3954,  ..., -0.3838,  0.1691, -0.4288]],\n",
       " \n",
       "         [[ 0.2016, -0.4431,  0.7890,  ...,  0.1360,  0.3042,  0.2461],\n",
       "          [ 0.2871, -0.9145, -1.0309,  ..., -0.3036,  0.1962,  0.1196],\n",
       "          [-1.3255,  0.1292, -0.9483,  ..., -0.2366, -0.0939, -0.1386],\n",
       "          ...,\n",
       "          [-0.6086, -0.3615,  0.3701,  ...,  0.4176,  0.4484,  0.1601],\n",
       "          [-0.0056,  0.4527,  0.8480,  ..., -0.0258,  0.8970,  0.0453],\n",
       "          [ 0.1551, -0.7235,  0.1692,  ..., -0.5865, -0.0339, -0.4343]]],\n",
       "        grad_fn=<ViewBackward0>),\n",
       " tensor([[ 0.5612, -0.2342,  1.4232, -1.2331,  1.9100, -1.6555,  0.0138,  0.0383,\n",
       "           1.5190, -0.5999, -0.6995,  0.0797, -1.0059, -1.1228,  0.8876, -1.4480,\n",
       "           0.9887,  0.3826, -0.1049,  0.7349, -0.1471, -1.6406,  0.9153, -0.8811,\n",
       "          -0.1230,  0.7922, -0.9518, -0.2269,  0.6329, -0.1100, -0.4484, -0.4431],\n",
       "         [ 0.5327,  1.1248,  0.6831,  0.1341, -0.3701, -0.0730,  0.6215, -0.8710,\n",
       "           1.0366, -2.4440, -0.9182, -0.1998, -2.7722,  0.0281, -0.4384,  1.1796,\n",
       "          -1.8119, -0.1231, -0.2017,  0.6020, -0.4630, -1.2014, -1.8448,  1.0045,\n",
       "           0.1432,  0.8541, -0.4479,  1.1177, -0.5499, -0.0604, -0.3624, -1.1774],\n",
       "         [-0.7375,  0.2821, -0.4936, -0.9686, -0.5220,  0.2299, -1.2951, -2.8860,\n",
       "           0.1652, -1.1760, -0.1425, -0.3584, -0.3337,  0.2257,  0.6433,  0.9687,\n",
       "           0.6157, -1.7252,  0.2653,  0.2703,  2.2893, -0.9009,  1.5419, -0.6750,\n",
       "           0.2721, -0.5518,  0.8769,  1.4670, -1.2138, -0.3730,  1.1191, -0.6870]],\n",
       "        grad_fn=<AddBackward0>),\n",
       " LowRankMultivariateNormal(loc: torch.Size([3, 32]), cov_factor: torch.Size([3, 32, 1]), cov_diag: torch.Size([3, 32])))"
      ]
     },
     "execution_count": 4,
     "metadata": {},
     "output_type": "execute_result"
    }
   ],
   "source": [
    "output"
   ]
  }
 ],
 "metadata": {
  "kernelspec": {
   "display_name": "Python 3",
   "language": "python",
   "name": "python3"
  },
  "language_info": {
   "codemirror_mode": {
    "name": "ipython",
    "version": 3
   },
   "file_extension": ".py",
   "mimetype": "text/x-python",
   "name": "python",
   "nbconvert_exporter": "python",
   "pygments_lexer": "ipython3",
   "version": "3.10.13"
  },
  "orig_nbformat": 4
 },
 "nbformat": 4,
 "nbformat_minor": 2
}
